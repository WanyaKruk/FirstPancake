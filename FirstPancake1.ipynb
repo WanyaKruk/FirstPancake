{
  "nbformat": 4,
  "nbformat_minor": 0,
  "metadata": {
    "colab": {
      "provenance": [],
      "authorship_tag": "ABX9TyM42LdYFIIB5DGmA/QIYm/0",
      "include_colab_link": true
    },
    "kernelspec": {
      "name": "python3",
      "display_name": "Python 3"
    },
    "language_info": {
      "name": "python"
    }
  },
  "cells": [
    {
      "cell_type": "markdown",
      "metadata": {
        "id": "view-in-github",
        "colab_type": "text"
      },
      "source": [
        "<a href=\"https://colab.research.google.com/github/WanyaKruk/FirstPancake/blob/main/FirstPancake1.ipynb\" target=\"_parent\"><img src=\"https://colab.research.google.com/assets/colab-badge.svg\" alt=\"Open In Colab\"/></a>"
      ]
    },
    {
      "cell_type": "code",
      "execution_count": 2,
      "metadata": {
        "id": "ppHFwMPZzJU6"
      },
      "outputs": [],
      "source": [
        "#Первый блин)"
      ]
    },
    {
      "cell_type": "code",
      "source": [
        "print  (\"Hi WORLD!\")"
      ],
      "metadata": {
        "colab": {
          "base_uri": "https://localhost:8080/"
        },
        "id": "MrsgNbdxI2sS",
        "outputId": "d5eff33a-1045-4af1-97d6-f44557caa144"
      },
      "execution_count": 3,
      "outputs": [
        {
          "output_type": "stream",
          "name": "stdout",
          "text": [
            "Hi WORLD!\n"
          ]
        }
      ]
    },
    {
      "cell_type": "code",
      "source": [
        "#Возведение целого числа в квадрат 1"
      ],
      "metadata": {
        "id": "dTJ5q1QEcr_w"
      },
      "execution_count": 4,
      "outputs": []
    },
    {
      "cell_type": "code",
      "source": [
        "def xx (a):\n",
        "  return (a * a)\n",
        "xx (1234)\n"
      ],
      "metadata": {
        "colab": {
          "base_uri": "https://localhost:8080/"
        },
        "id": "EdtuIGVJzOMz",
        "outputId": "de172279-76da-4b7f-cb97-59fd73f15222"
      },
      "execution_count": 5,
      "outputs": [
        {
          "output_type": "execute_result",
          "data": {
            "text/plain": [
              "1522756"
            ]
          },
          "metadata": {},
          "execution_count": 5
        }
      ]
    },
    {
      "cell_type": "code",
      "source": [
        "#Возведение целого числа в квадрат 2"
      ],
      "metadata": {
        "id": "AB66vklndV_s"
      },
      "execution_count": 6,
      "outputs": []
    },
    {
      "cell_type": "code",
      "source": [
        "def x2 (a):\n",
        " return (a ** 2)\n",
        "x2 (12)"
      ],
      "metadata": {
        "colab": {
          "base_uri": "https://localhost:8080/"
        },
        "id": "164_pDnn2Luk",
        "outputId": "a622c667-0d8f-4d8b-aa35-a3107a418e69"
      },
      "execution_count": 7,
      "outputs": [
        {
          "output_type": "execute_result",
          "data": {
            "text/plain": [
              "144"
            ]
          },
          "metadata": {},
          "execution_count": 7
        }
      ]
    },
    {
      "cell_type": "code",
      "source": [
        "#Возведение целого числа в квадрат 3"
      ],
      "metadata": {
        "id": "QhkTXBRxdYo6"
      },
      "execution_count": 8,
      "outputs": []
    },
    {
      "cell_type": "code",
      "source": [
        "a = 123\n",
        "квадрат = a * a\n",
        "print ('квадрат числа', a, 'равен', квадрат)"
      ],
      "metadata": {
        "colab": {
          "base_uri": "https://localhost:8080/"
        },
        "id": "OxnV0G-4A7ph",
        "outputId": "a81b9064-224a-4168-8753-cfd6e38c3c74"
      },
      "execution_count": 9,
      "outputs": [
        {
          "output_type": "stream",
          "name": "stdout",
          "text": [
            "квадрат числа 123 равен 15129\n"
          ]
        }
      ]
    }
  ]
}