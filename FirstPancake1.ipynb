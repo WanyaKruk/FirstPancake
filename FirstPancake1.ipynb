{
  "nbformat": 4,
  "nbformat_minor": 0,
  "metadata": {
    "colab": {
      "provenance": [],
      "authorship_tag": "ABX9TyPZCxzf2l9i9UAuqNLMgFgn",
      "include_colab_link": true
    },
    "kernelspec": {
      "name": "python3",
      "display_name": "Python 3"
    },
    "language_info": {
      "name": "python"
    }
  },
  "cells": [
    {
      "cell_type": "markdown",
      "metadata": {
        "id": "view-in-github",
        "colab_type": "text"
      },
      "source": [
        "<a href=\"https://colab.research.google.com/github/WanyaKruk/FirstPancake/blob/main/FirstPancake1.ipynb\" target=\"_parent\"><img src=\"https://colab.research.google.com/assets/colab-badge.svg\" alt=\"Open In Colab\"/></a>"
      ]
    },
    {
      "cell_type": "code",
      "execution_count": null,
      "metadata": {
        "id": "ppHFwMPZzJU6"
      },
      "outputs": [],
      "source": [
        "#Первый блин)"
      ]
    },
    {
      "cell_type": "code",
      "source": [
        "print  (\"Hi WORLD!\")"
      ],
      "metadata": {
        "colab": {
          "base_uri": "https://localhost:8080/"
        },
        "id": "MrsgNbdxI2sS",
        "outputId": "3eb0ccdc-15c8-48ff-8194-0dd2c83bbad4"
      },
      "execution_count": null,
      "outputs": [
        {
          "output_type": "stream",
          "name": "stdout",
          "text": [
            "Hi WORLD!\n"
          ]
        }
      ]
    },
    {
      "cell_type": "code",
      "source": [
        "#Возведение целого числа в квадрат 1"
      ],
      "metadata": {
        "id": "dTJ5q1QEcr_w"
      },
      "execution_count": null,
      "outputs": []
    },
    {
      "cell_type": "code",
      "source": [
        "def xx (a):\n",
        "  return (a * a)\n",
        "xx (1234)\n"
      ],
      "metadata": {
        "colab": {
          "base_uri": "https://localhost:8080/"
        },
        "id": "EdtuIGVJzOMz",
        "outputId": "2c6b4eab-1c51-4e16-cddd-af55ac818183"
      },
      "execution_count": null,
      "outputs": [
        {
          "output_type": "execute_result",
          "data": {
            "text/plain": [
              "1522756"
            ]
          },
          "metadata": {},
          "execution_count": 44
        }
      ]
    },
    {
      "cell_type": "code",
      "source": [
        "#Возведение целого числа в квадрат 2"
      ],
      "metadata": {
        "id": "AB66vklndV_s"
      },
      "execution_count": null,
      "outputs": []
    },
    {
      "cell_type": "code",
      "source": [
        "def x2 (a):\n",
        " return (a ** 2)\n",
        "x2 (1234)"
      ],
      "metadata": {
        "colab": {
          "base_uri": "https://localhost:8080/"
        },
        "id": "164_pDnn2Luk",
        "outputId": "29e56eb9-ff0f-46c3-9cc9-20d0ba0e3e27"
      },
      "execution_count": null,
      "outputs": [
        {
          "output_type": "execute_result",
          "data": {
            "text/plain": [
              "1522756"
            ]
          },
          "metadata": {},
          "execution_count": 45
        }
      ]
    },
    {
      "cell_type": "code",
      "source": [
        "#Возведение целого числа в квадрат 3"
      ],
      "metadata": {
        "id": "QhkTXBRxdYo6"
      },
      "execution_count": null,
      "outputs": []
    },
    {
      "cell_type": "code",
      "source": [
        "a = 123\n",
        "квадрат = a * a\n",
        "print ('квадрат числа', a, 'равен', квадрат)"
      ],
      "metadata": {
        "colab": {
          "base_uri": "https://localhost:8080/"
        },
        "id": "OxnV0G-4A7ph",
        "outputId": "1d708004-909e-4cd5-d49c-6692f827171e"
      },
      "execution_count": null,
      "outputs": [
        {
          "output_type": "stream",
          "name": "stdout",
          "text": [
            "квадрат числа 123 равен 15129\n"
          ]
        }
      ]
    }
  ]
}