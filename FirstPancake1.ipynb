{
  "nbformat": 4,
  "nbformat_minor": 0,
  "metadata": {
    "colab": {
      "provenance": []
    },
    "kernelspec": {
      "name": "python3",
      "display_name": "Python 3"
    },
    "language_info": {
      "name": "python"
    }
  },
  "cells": [
    {
      "cell_type": "code",
      "execution_count": null,
      "metadata": {
        "id": "ppHFwMPZzJU6"
      },
      "outputs": [],
      "source": [
        "#Первый блин)"
      ]
    },
    {
      "cell_type": "code",
      "source": [
        "def xx (a):\n",
        "  return (a * a)\n",
        "xx (8)"
      ],
      "metadata": {
        "colab": {
          "base_uri": "https://localhost:8080/"
        },
        "id": "EdtuIGVJzOMz",
        "outputId": "a4c94480-445b-4f99-9228-a2fdc356a489"
      },
      "execution_count": 8,
      "outputs": [
        {
          "output_type": "execute_result",
          "data": {
            "text/plain": [
              "64"
            ]
          },
          "metadata": {},
          "execution_count": 8
        }
      ]
    }
  ]
}