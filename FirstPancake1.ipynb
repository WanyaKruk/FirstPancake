{
  "nbformat": 4,
  "nbformat_minor": 0,
  "metadata": {
    "colab": {
      "provenance": []
    },
    "kernelspec": {
      "name": "python3",
      "display_name": "Python 3"
    },
    "language_info": {
      "name": "python"
    }
  },
  "cells": [
    {
      "cell_type": "code",
      "execution_count": 36,
      "metadata": {
        "id": "ppHFwMPZzJU6"
      },
      "outputs": [],
      "source": [
        "#Первый блин)"
      ]
    },
    {
      "cell_type": "code",
      "source": [
        "print  (\"Hi WORLD!\")"
      ],
      "metadata": {
        "colab": {
          "base_uri": "https://localhost:8080/"
        },
        "id": "MrsgNbdxI2sS",
        "outputId": "3eb0ccdc-15c8-48ff-8194-0dd2c83bbad4"
      },
      "execution_count": 37,
      "outputs": [
        {
          "output_type": "stream",
          "name": "stdout",
          "text": [
            "Hi WORLD!\n"
          ]
        }
      ]
    },
    {
      "cell_type": "code",
      "source": [
        "#Возведение целого числа в квадрат 1"
      ],
      "metadata": {
        "id": "dTJ5q1QEcr_w"
      },
      "execution_count": 38,
      "outputs": []
    },
    {
      "cell_type": "code",
      "source": [
        "def xx (a):\n",
        "  return (a * a)\n",
        "xx (7)\n"
      ],
      "metadata": {
        "colab": {
          "base_uri": "https://localhost:8080/"
        },
        "id": "EdtuIGVJzOMz",
        "outputId": "f975329b-6627-431b-f537-9b1c32ec50ae"
      },
      "execution_count": 39,
      "outputs": [
        {
          "output_type": "execute_result",
          "data": {
            "text/plain": [
              "49"
            ]
          },
          "metadata": {},
          "execution_count": 39
        }
      ]
    },
    {
      "cell_type": "code",
      "source": [
        "#Возведение целого числа в квадрат 2"
      ],
      "metadata": {
        "id": "AB66vklndV_s"
      },
      "execution_count": 40,
      "outputs": []
    },
    {
      "cell_type": "code",
      "source": [
        "def x2 (a):\n",
        " return (a ** 2)\n",
        "x2 (8)"
      ],
      "metadata": {
        "colab": {
          "base_uri": "https://localhost:8080/"
        },
        "id": "164_pDnn2Luk",
        "outputId": "30e92267-e813-4037-db61-461e63ccc719"
      },
      "execution_count": 41,
      "outputs": [
        {
          "output_type": "execute_result",
          "data": {
            "text/plain": [
              "64"
            ]
          },
          "metadata": {},
          "execution_count": 41
        }
      ]
    },
    {
      "cell_type": "code",
      "source": [
        "#Возведение целого числа в квадрат 3"
      ],
      "metadata": {
        "id": "QhkTXBRxdYo6"
      },
      "execution_count": 42,
      "outputs": []
    },
    {
      "cell_type": "code",
      "source": [
        "a = 9\n",
        "квадрат = a * a\n",
        "print ('квадрат числа', a, 'равен', квадрат)"
      ],
      "metadata": {
        "colab": {
          "base_uri": "https://localhost:8080/"
        },
        "id": "OxnV0G-4A7ph",
        "outputId": "fe20a1a4-5497-4e7c-9534-74f966df2490"
      },
      "execution_count": 43,
      "outputs": [
        {
          "output_type": "stream",
          "name": "stdout",
          "text": [
            "квадрат числа 9 равен 81\n"
          ]
        }
      ]
    }
  ]
}