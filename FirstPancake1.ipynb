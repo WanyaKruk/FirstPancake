{
  "nbformat": 4,
  "nbformat_minor": 0,
  "metadata": {
    "colab": {
      "provenance": []
    },
    "kernelspec": {
      "name": "python3",
      "display_name": "Python 3"
    },
    "language_info": {
      "name": "python"
    }
  },
  "cells": [
    {
      "cell_type": "code",
      "execution_count": null,
      "metadata": {
        "id": "ppHFwMPZzJU6"
      },
      "outputs": [],
      "source": [
        "#Первый блин)"
      ]
    },
    {
      "cell_type": "code",
      "source": [
        "def xx (a):\n",
        "  return (a * a)\n",
        "xx (8)"
      ],
      "metadata": {
        "colab": {
          "base_uri": "https://localhost:8080/"
        },
        "id": "EdtuIGVJzOMz",
        "outputId": "a0762830-6f89-41b8-88bc-29e5f3fbe69d"
      },
      "execution_count": 9,
      "outputs": [
        {
          "output_type": "execute_result",
          "data": {
            "text/plain": [
              "64"
            ]
          },
          "metadata": {},
          "execution_count": 9
        }
      ]
    },
    {
      "cell_type": "code",
      "source": [
        "def x2 (b):\n",
        " return (b ** 2)\n",
        "x2 (7)"
      ],
      "metadata": {
        "colab": {
          "base_uri": "https://localhost:8080/"
        },
        "id": "164_pDnn2Luk",
        "outputId": "52e37ba7-572e-4550-8695-1da0ea9d447e"
      },
      "execution_count": 23,
      "outputs": [
        {
          "output_type": "execute_result",
          "data": {
            "text/plain": [
              "49"
            ]
          },
          "metadata": {},
          "execution_count": 23
        }
      ]
    }
  ]
}